{
 "cells": [
  {
   "cell_type": "markdown",
   "id": "fdcddbfe-2e4f-45dc-9120-482ed705aaf9",
   "metadata": {},
   "source": [
    "# Метод скользящего окна\n",
    "\n",
    "Для массива, состоящего из n целых чисел, найдите непрерывный подмассив (срез) заданной длины k, сумма значений в котором минимальна. Напечатайте эту сумму.\n",
    "\n",
    "Число k всегда больше нуля и меньше n.\n",
    "\n",
    "Например, даны:\n",
    "\n",
    "список [5, -3, -2, 10, 2, 7, 1, -6, 13],\n",
    "длина подмассива k = 4.\n",
    "Требуется найти такой срез из четырёх элементов, в котором сумма значений будет минимальна.\n",
    "\n",
    "Наивное решение может быть таким:"
   ]
  },
  {
   "cell_type": "code",
   "execution_count": 7,
   "id": "c2e74e89-5476-4ab8-88fe-e0bc0a8cf9e3",
   "metadata": {},
   "outputs": [],
   "source": [
    "data = [5, -3, -2, 10, 2, 7, 1, -6, 13]\n",
    "elements_in_slice = 4"
   ]
  },
  {
   "cell_type": "code",
   "execution_count": 8,
   "id": "33e4a4df-085d-424c-9858-6e8c3128d917",
   "metadata": {},
   "outputs": [
    {
     "name": "stdout",
     "output_type": "stream",
     "text": [
      "4\n"
     ]
    }
   ],
   "source": [
    "from sys import maxsize\n",
    "\n",
    "def find_min_slice_sum(data, elements_in_slice):\n",
    "    min_sum = maxsize\n",
    "    for index in range(len(data) - elements_in_slice + 1):\n",
    "        # Вместо внутреннего цикла считаем сумму нужного среза.\n",
    "        temp_sum = sum(data[index:index+elements_in_slice])\n",
    "        min_sum = min(min_sum, temp_sum)\n",
    "    return min_sum\n",
    "\n",
    "print(find_min_slice_sum(data, elements_in_slice))"
   ]
  },
  {
   "cell_type": "markdown",
   "id": "3b8835a5-ae88-47c0-a2eb-4e407dfbbdd0",
   "metadata": {},
   "source": [
    "Временная сложность этого решения — O(n * k), где n — длина исходного массива, а k — длина рассматриваемого среза."
   ]
  },
  {
   "cell_type": "markdown",
   "id": "dc4e0330-3627-46cc-8e4a-ce2adeee2e61",
   "metadata": {},
   "source": [
    "Первое: сосчитать сумму в первой «рамке», перебрав все элементы. Пусть это будет sum_1. И чтобы получить сумму значений во второй рамке, надо из sum_1 вычесть значение первого элемента (5) и прибавить значение нового элемента (2). Точно так же поступим и на остальных итерациях.\n",
    "\n",
    "Этот подход называется методом скользящего окна: рамка-окно последовательно сдвигается по массиву, скользит по нему.\n",
    "\n",
    "Обычно этот метод применяется для поиска заданного среза или какого-то значения, вычисленного на основе элементов среза: можно искать минимальную сумму (как в нашей задаче), можно заданную сумму или среднее значение сумм.\n",
    "\n",
    "💡 В отличие от метода двух указателей, метод скользящего окна не требует сортировки исходных данных."
   ]
  },
  {
   "cell_type": "code",
   "execution_count": 9,
   "id": "d1067d3b-1f74-46f4-94e2-5ae97de030d3",
   "metadata": {},
   "outputs": [
    {
     "name": "stdout",
     "output_type": "stream",
     "text": [
      "4\n"
     ]
    }
   ],
   "source": [
    "def find_min_slice_sum(data, elements_in_slice):\n",
    "    # Считаем сумму первого окна.\n",
    "    window_sum = sum(data[0:elements_in_slice])\n",
    "    # Запоминаем результат подсчёта в качестве минимальной суммы.\n",
    "    min_sum = window_sum\n",
    "    # В цикле перебираем индексы массива от elements_in_slice до последнего.\n",
    "    for index in range(elements_in_slice, len(data)):\n",
    "        # К сумме предыдущего окна добавляем новый элемент: data[index]\n",
    "        # и вычитаем \"вышедший\" элемент: data[index - elements_in_slice]\n",
    "        window_sum += data[index] - data[index - elements_in_slice]\n",
    "        # Находим минимальную сумму.\n",
    "        min_sum = min(min_sum, window_sum)\n",
    "    return min_sum\n",
    "\n",
    "print(find_min_slice_sum(data, elements_in_slice))"
   ]
  }
 ],
 "metadata": {
  "kernelspec": {
   "display_name": "Python 3 (ipykernel)",
   "language": "python",
   "name": "python3"
  },
  "language_info": {
   "codemirror_mode": {
    "name": "ipython",
    "version": 3
   },
   "file_extension": ".py",
   "mimetype": "text/x-python",
   "name": "python",
   "nbconvert_exporter": "python",
   "pygments_lexer": "ipython3",
   "version": "3.9.13"
  }
 },
 "nbformat": 4,
 "nbformat_minor": 5
}
