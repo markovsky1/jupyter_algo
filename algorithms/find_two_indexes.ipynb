{
 "cells": [
  {
   "cell_type": "markdown",
   "id": "4ca892e3-ab2e-4029-af50-90f83e91237b",
   "metadata": {},
   "source": [
    "Заданы число и отсортированный список из целых чисел. Напишите функцию, которая найдёт в этом списке два элемента, сумма которых равна заданному числу, и вернёт кортеж с индексами этих элементов. Нельзя использовать один и тот же элемент дважды. Если при определённых входных данных решения у задачи нет, функция должна вернуть None.\n",
    "\n",
    "Например:\n",
    "задано число 10;\n",
    "задан список [1, 2, 3, 4, 5, 6, 7, 11].\n",
    "\n",
    "Сумму 10 дают элементы со значениями 3 и 7 (их индексы — 2 и 6) и элементы со значениями 4 и 6 (их индексы — 3 и 5). Функция должна вернуть кортеж с любой из этих пар индексов: (2, 6) или (3, 5). \n",
    "\n",
    "Ответ (4, 4) (два одинаковых элемента с индексом 4) принят не будет: две пятёрки (значения элементов с индексом 4)  в сумме действительно дают 10, но дважды использовать один элемент нельзя."
   ]
  },
  {
   "cell_type": "code",
   "execution_count": 6,
   "id": "bc214375-f7e1-4efd-8b69-5e8b2bacd239",
   "metadata": {},
   "outputs": [],
   "source": [
    "input_n: int = 10\n",
    "input_arr: list[int] = [1, 2, 3, 4, 5, 6, 7, 11]"
   ]
  },
  {
   "cell_type": "code",
   "execution_count": 7,
   "id": "facd5fd5-612e-43a7-9d2e-554413ec2b7e",
   "metadata": {},
   "outputs": [
    {
     "name": "stdout",
     "output_type": "stream",
     "text": [
      "(2, 6)\n"
     ]
    }
   ],
   "source": [
    "from typing import Optional, Tuple\n",
    "\n",
    "\n",
    "def find_two_indexes_quad_O(expected_sum, data):\n",
    "    for first_index, first_num in enumerate(data):\n",
    "        for second_index, second_num in enumerate(data):\n",
    "            if first_index == second_index:\n",
    "                continue\n",
    "            elif first_num + second_num == expected_sum:\n",
    "                return first_index, second_index\n",
    "\n",
    "\n",
    "print(find_two_indexes_quad_O(input_n, input_arr))"
   ]
  },
  {
   "cell_type": "markdown",
   "id": "cd9de076-3086-4ee9-9c16-29be2311a56e",
   "metadata": {},
   "source": [
    "В худшем случае, когда решения у задачи нет, алгоритм выполнится за квадратичное время. При таких условиях функция вернёт None"
   ]
  },
  {
   "cell_type": "markdown",
   "id": "ce5c3dc0-7a6d-45ec-a114-5f8955010db3",
   "metadata": {},
   "source": [
    "Оптимизированное решение (O(n) по времени, O(n) по памяти):"
   ]
  },
  {
   "cell_type": "code",
   "execution_count": 8,
   "id": "0df44c6d-e16e-43a4-a987-8c53d11a4b0e",
   "metadata": {},
   "outputs": [
    {
     "name": "stdout",
     "output_type": "stream",
     "text": [
      "(3, 5)\n"
     ]
    }
   ],
   "source": [
    "def find_two_indexes_linear_O(\n",
    "        expected_sum: int, data: list[int]\n",
    "        ) -> Optional[Tuple[int, int]]:\n",
    "    complements = dict()\n",
    "    for index, num in enumerate(data):\n",
    "        complement = expected_sum - num\n",
    "        if complement in complements and complements[complement] != index:\n",
    "            return complements[complement], index\n",
    "        complements[num] = index\n",
    "\n",
    "print(find_two_indexes_linear_O(input_n, input_arr))"
   ]
  },
  {
   "cell_type": "markdown",
   "id": "ec6a5325-610d-46a9-a20a-f21e2df3cadb",
   "metadata": {},
   "source": [
    "### Метод двух указателей\n",
    "\n",
    "В этом решении применён цикл while, а не for: ведь количество необходимых шагов заранее неизвестно, но зато известны два возможных условия выхода из цикла:\n",
    "- когда найдётся искомое число,\n",
    "- или когда указатели встретятся.\n",
    "\n",
    "За одну итерацию цикла сдвигается только один указатель, значит, указатели никак не смогут «разминуться» друг с другом или перескочить один через другой. \n",
    "\n",
    "Временная сложность такого решения задачи — линейная, а не квадратичная, как было в случае наивного решения. Никаких новых объектов при таком решении не создаётся — следовательно, нет и дополнительного расхода памяти."
   ]
  },
  {
   "cell_type": "code",
   "execution_count": 9,
   "id": "f9050ba0-c591-4e50-8437-a31c64c67f50",
   "metadata": {},
   "outputs": [
    {
     "name": "stdout",
     "output_type": "stream",
     "text": [
      "(2, 6)\n"
     ]
    }
   ],
   "source": [
    "def two_pointer_method(\n",
    "        expected_sum: int, data: list[int]\n",
    "        ) -> Optional[Tuple[int, int]]:\n",
    "    left_pointer = 0\n",
    "    right_pointer = len(data) - 1\n",
    "    while left_pointer < right_pointer:\n",
    "        result = data[left_pointer] + data[right_pointer]\n",
    "        if result == expected_sum:\n",
    "            return (left_pointer, right_pointer)\n",
    "        elif result > expected_sum:\n",
    "            right_pointer -= 1\n",
    "        else:\n",
    "            left_pointer += 1\n",
    "\n",
    "print(two_pointer_method(input_n, input_arr))"
   ]
  }
 ],
 "metadata": {
  "kernelspec": {
   "display_name": "Python 3 (ipykernel)",
   "language": "python",
   "name": "python3"
  },
  "language_info": {
   "codemirror_mode": {
    "name": "ipython",
    "version": 3
   },
   "file_extension": ".py",
   "mimetype": "text/x-python",
   "name": "python",
   "nbconvert_exporter": "python",
   "pygments_lexer": "ipython3",
   "version": "3.9.13"
  }
 },
 "nbformat": 4,
 "nbformat_minor": 5
}
